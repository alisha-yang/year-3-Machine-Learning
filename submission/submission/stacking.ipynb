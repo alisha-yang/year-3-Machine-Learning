{
 "cells": [
  {
   "cell_type": "code",
   "execution_count": 22,
   "metadata": {},
   "outputs": [],
   "source": [
    "import pandas as pd\n",
    "import csv\n",
    "import scipy\n",
    "\n",
    "import re\n",
    "from sklearn.feature_extraction.text import CountVectorizer\n",
    "from sklearn.feature_selection import SelectKBest, chi2"
   ]
  },
  {
   "cell_type": "code",
   "execution_count": 23,
   "metadata": {},
   "outputs": [],
   "source": [
    "def strip(s):\n",
    "    return s.lstrip('\"').rstrip('\"')\n",
    "def UTF16(s):\n",
    "    ss=re.sub(r\"\\\\u[0-9A-Fa-f]{4}\",'',s)[:]\n",
    "    return ss\n",
    "def Leading(s):\n",
    "    return s.lstrip()"
   ]
  },
  {
   "cell_type": "code",
   "execution_count": 24,
   "metadata": {},
   "outputs": [],
   "source": [
    "train_raw = pd.read_csv('train-raw.tsv',sep = \"\\t\", header = None,quoting=csv.QUOTE_NONE)\n",
    "test_raw = pd.read_csv('test-raw.tsv',sep = \"\\t\", header = None,quoting=csv.QUOTE_NONE) #dev raw\n",
    "answer_raw = pd.read_csv('test-raw.tsv',sep = \"\\t\", header = None,quoting=csv.QUOTE_NONE)\n",
    "\n",
    "train_raw = train_raw.iloc[:5000,:]\n",
    "test_raw =test_raw.iloc[:5000,:]\n",
    "\n",
    "train_raw.columns = ['ID', 'Class','Twitter']\n",
    "test_raw.columns = ['ID', 'Class','Twitter']\n",
    "answer_raw.columns = ['id', 'Class','Twitter']\n",
    "\n",
    "train_raw['Twitter']=train_raw['Twitter'].map(strip).map(UTF16).map(Leading)\n",
    "test_raw['Twitter']=test_raw['Twitter'].map(strip).map(UTF16).map(Leading)\n",
    "answer_raw['Twitter']=answer_raw['Twitter'].map(strip).map(UTF16).map(Leading)\n",
    "\n",
    "train_text = train_raw['Twitter']\n",
    "test_text = test_raw['Twitter']\n",
    "answer_text = answer_raw['Twitter']\n",
    "\n",
    "train_label=train_raw['Class']\n",
    "test_label=test_raw['Class']\n",
    "answer_label=answer_raw['Class']\n"
   ]
  },
  {
   "cell_type": "code",
   "execution_count": 25,
   "metadata": {},
   "outputs": [
    {
     "data": {
      "text/plain": [
       "'k=100\\nx2 = SelectKBest(chi2, k=k)\\n\\nX_train_x2 = x2.fit_transform(X_train,train_label)\\nX_test = x2.transform(X_test)\\nprint(X_train_x2.shape)\\nprint(len(train_label))'"
      ]
     },
     "execution_count": 25,
     "metadata": {},
     "output_type": "execute_result"
    }
   ],
   "source": [
    "vectoriser = CountVectorizer(encoding='utf-8',decode_error='strict' )\n",
    "X_train = vectoriser.fit_transform(train_text) #bags of words\n",
    "X_test = vectoriser.transform(test_text ) \n",
    "X_answer=vectoriser.transform(answer_text ) \n",
    "'''k=100\n",
    "x2 = SelectKBest(chi2, k=k)\n",
    "\n",
    "X_train_x2 = x2.fit_transform(X_train,train_label)\n",
    "X_test = x2.transform(X_test)\n",
    "'''"
   ]
  },
  {
   "cell_type": "code",
   "execution_count": 26,
   "metadata": {},
   "outputs": [
    {
     "name": "stderr",
     "output_type": "stream",
     "text": [
      "/Users/zhaohaitian/anaconda3/lib/python3.7/site-packages/sklearn/linear_model/logistic.py:433: FutureWarning: Default solver will be changed to 'lbfgs' in 0.22. Specify a solver to silence this warning.\n",
      "  FutureWarning)\n",
      "/Users/zhaohaitian/anaconda3/lib/python3.7/site-packages/sklearn/linear_model/logistic.py:460: FutureWarning: Default multi_class will be changed to 'auto' in 0.22. Specify the multi_class option to silence this warning.\n",
      "  \"this warning.\", FutureWarning)\n"
     ]
    },
    {
     "name": "stdout",
     "output_type": "stream",
     "text": [
      "<class 'scipy.sparse.csr.csr_matrix'>\n",
      "model1 0.9772\n",
      "model2 0.9856\n",
      "model4 0.9616\n",
      "model5 0.97\n",
      "model1 0.0\n",
      "model2 0.0\n",
      "model4 0.0\n",
      "model5 0.0\n"
     ]
    },
    {
     "name": "stderr",
     "output_type": "stream",
     "text": [
      "/Users/zhaohaitian/anaconda3/lib/python3.7/site-packages/sklearn/ensemble/forest.py:246: FutureWarning: The default value of n_estimators will change from 10 in version 0.20 to 100 in 0.22.\n",
      "  \"10 in version 0.20 to 100 in 0.22.\", FutureWarning)\n"
     ]
    },
    {
     "name": "stdout",
     "output_type": "stream",
     "text": [
      "stacker accuracy 0.0 0.2452\n"
     ]
    }
   ],
   "source": [
    "import numpy as np\n",
    "from sklearn.preprocessing import OneHotEncoder\n",
    "from sklearn.naive_bayes import GaussianNB, MultinomialNB, BernoulliNB\n",
    "from sklearn.model_selection import cross_val_score\n",
    "from sklearn.dummy import DummyClassifier\n",
    "from sklearn.linear_model import LogisticRegression\n",
    "from sklearn.neighbors import KNeighborsClassifier\n",
    "from sklearn.tree import DecisionTreeClassifier\n",
    "from sklearn import svm\n",
    "from sklearn.ensemble import VotingClassifier\n",
    "from sklearn.metrics import accuracy_score\n",
    "from sklearn.model_selection import train_test_split\n",
    "import time\n",
    "import time\n",
    "import numpy as np\n",
    "from sklearn.ensemble import RandomForestClassifier\n",
    "from sklearn.linear_model import LinearRegression \n",
    "from sklearn import preprocessing\n",
    "le = preprocessing.LabelEncoder()\n",
    "le.fit([\"Melbourne\",\"Sydney\",\"Brisbane\",\"Perth\"])\n",
    "\n",
    "X_train_x2,valid,train_label,valid_label=train_test_split(X_train,train_label,test_size=0.5)\n",
    "\n",
    "\n",
    "model1=RandomForestClassifier(n_estimators=15, max_depth= None, max_features=9, min_samples_split= 9)\n",
    "model2=LogisticRegression(C=10)\n",
    "#model3=svm.SVC(kernel='linear',C=0.5,probability=True)\n",
    "model4=MultinomialNB(fit_prior= True, alpha= 0.8)\n",
    "model5=GaussianNB(var_smoothing=1e-08)\n",
    "model1.fit(X_train_x2,train_label)\n",
    "model2.fit(X_train_x2,train_label)\n",
    "#model3.fit(X_train_x2,train_label)\n",
    "model4.fit(X_train_x2,train_label)\n",
    "model5.fit(X_train_x2.toarray(),train_label)\n",
    "\n",
    "\n",
    "preds1=model1.predict(valid)\n",
    "preds2=model2.predict(valid)\n",
    "#preds3=model3.predict(valid)\n",
    "preds4=model4.predict(valid)\n",
    "preds5=model5.predict(valid.toarray())\n",
    "\n",
    "test_preds1=model1.predict(X_test)\n",
    "test_preds2=model2.predict(X_test)\n",
    "#test_preds3=model3.predict(X_test)\n",
    "test_preds4=model4.predict(X_test)\n",
    "test_preds5=model5.predict(X_test.toarray())\n",
    "\n",
    "preds1=le.transform(preds1) \n",
    "preds2=le.transform(preds2) \n",
    "#preds3=le.transform(preds3) \n",
    "preds4=le.transform(preds4) \n",
    "preds5=le.transform(preds5) \n",
    "\n",
    "stacked_predictions = np.column_stack((preds1,preds2,preds4,preds5))\n",
    "'''print(preds2)'''\n",
    "test_preds1=le.transform(test_preds1) \n",
    "test_preds2=le.transform(test_preds2) \n",
    "#test_preds3=le.transform(test_preds3) \n",
    "test_preds4=le.transform(test_preds4) \n",
    "test_preds5=le.transform(test_preds5) \n",
    "\n",
    "stacked_test_predictions = np.column_stack((test_preds1,test_preds2,test_preds4,test_preds5))\n",
    "'''print(test_preds2)'''\n",
    "\n",
    "meta_model =  RandomForestClassifier()\n",
    "#print(stacked_predictions)\n",
    "meta_model.fit(stacked_predictions,valid_label)\n",
    "\n",
    "\n",
    "count = 0\n",
    "count2 =0\n",
    "for (i) in range(2500):\n",
    "    #print(meta_model.predict(stacked_test_predictions)[i])\n",
    "    if(meta_model.predict(stacked_test_predictions)[i]==test_label[i]):\n",
    "        count =count+1\n",
    "    if(meta_model.predict(stacked_predictions)[i]==train_label.iat[i]):\n",
    "        count2=count2+1\n",
    "print('stacker accuracy',count/2500,count2/2500)"
   ]
  },
  {
   "cell_type": "code",
   "execution_count": 29,
   "metadata": {},
   "outputs": [],
   "source": [
    "import pandas as pd\n",
    "df = pd.DataFrame(meta_model.predict(stacked_test_predictions))\n",
    "df2=pd.DataFrame(answer_raw['id'])\n",
    "df2['Class']=df\n",
    "df2.to_csv('stacking.csv',index=False)"
   ]
  },
  {
   "cell_type": "code",
   "execution_count": null,
   "metadata": {},
   "outputs": [],
   "source": []
  },
  {
   "cell_type": "code",
   "execution_count": null,
   "metadata": {},
   "outputs": [],
   "source": []
  },
  {
   "cell_type": "code",
   "execution_count": null,
   "metadata": {},
   "outputs": [],
   "source": []
  }
 ],
 "metadata": {
  "kernelspec": {
   "display_name": "Python 3",
   "language": "python",
   "name": "python3"
  },
  "language_info": {
   "codemirror_mode": {
    "name": "ipython",
    "version": 3
   },
   "file_extension": ".py",
   "mimetype": "text/x-python",
   "name": "python",
   "nbconvert_exporter": "python",
   "pygments_lexer": "ipython3",
   "version": "3.7.1"
  }
 },
 "nbformat": 4,
 "nbformat_minor": 2
}
