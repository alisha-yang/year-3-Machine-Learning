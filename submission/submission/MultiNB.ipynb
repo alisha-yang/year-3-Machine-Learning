{
 "cells": [
  {
   "cell_type": "code",
   "execution_count": 7,
   "metadata": {},
   "outputs": [],
   "source": [
    "import pandas as pd\n",
    "import csv\n",
    "import scipy\n",
    "import re\n",
    "from sklearn.feature_extraction.text import CountVectorizer\n",
    "from sklearn.feature_selection import SelectKBest, chi2"
   ]
  },
  {
   "cell_type": "code",
   "execution_count": 8,
   "metadata": {},
   "outputs": [],
   "source": [
    "def strip(s):\n",
    "    return s.lstrip('\"').rstrip('\"')\n",
    "def UTF16(s):\n",
    "    ss=re.sub(r\"\\\\u[0-9A-Fa-f]{4}\",'',s)[:]\n",
    "    return ss\n",
    "def Leading(s):\n",
    "    return s.lstrip()"
   ]
  },
  {
   "cell_type": "code",
   "execution_count": 9,
   "metadata": {},
   "outputs": [],
   "source": [
    "train_raw = pd.read_csv('train-raw.tsv',sep = \"\\t\", header = None,quoting=csv.QUOTE_NONE)\n",
    "test_raw = pd.read_csv('dev-raw.tsv',sep = \"\\t\", header = None,quoting=csv.QUOTE_NONE) #dev raw\n",
    "answer_raw = pd.read_csv('test-raw.tsv',sep = \"\\t\", header = None,quoting=csv.QUOTE_NONE)\n",
    "\n",
    "train_raw.columns = ['id', 'Class','Twitter']\n",
    "test_raw.columns = ['id', 'Class','Twitter']\n",
    "answer_raw.columns = ['id', 'Class','Twitter']\n",
    "\n",
    "train_raw['Twitter']=train_raw['Twitter'].map(strip).map(UTF16).map(Leading)\n",
    "test_raw['Twitter']=test_raw['Twitter'].map(strip).map(UTF16).map(Leading)\n",
    "answer_raw['Twitter']=answer_raw['Twitter'].map(strip).map(UTF16).map(Leading)\n",
    "\n",
    "train_text = train_raw['Twitter']\n",
    "test_text = test_raw['Twitter']\n",
    "answer_text = answer_raw['Twitter']\n",
    "\n",
    "train_label=train_raw['Class']\n",
    "test_label=test_raw['Class']\n",
    "answer_label=answer_raw['Class']\n"
   ]
  },
  {
   "cell_type": "code",
   "execution_count": 10,
   "metadata": {},
   "outputs": [
    {
     "data": {
      "text/plain": [
       "'k=100\\nx2 = SelectKBest(chi2, k=k)\\n\\nX_train_x2 = x2.fit_transform(X_train,train_label)\\nX_test = x2.transform(X_test)\\n'"
      ]
     },
     "execution_count": 10,
     "metadata": {},
     "output_type": "execute_result"
    }
   ],
   "source": [
    "vectoriser = CountVectorizer(encoding='utf-8',decode_error='strict' )\n",
    "X_train = vectoriser.fit_transform(train_text) #bags of words\n",
    "X_test = vectoriser.transform(test_text ) \n",
    "X_answer=vectoriser.transform(answer_text ) \n",
    "'''k=100\n",
    "x2 = SelectKBest(chi2, k=k)\n",
    "\n",
    "X_train_x2 = x2.fit_transform(X_train,train_label)\n",
    "X_test = x2.transform(X_test)\n",
    "'''"
   ]
  },
  {
   "cell_type": "code",
   "execution_count": 11,
   "metadata": {},
   "outputs": [
    {
     "name": "stdout",
     "output_type": "stream",
     "text": [
      "0.346446564476364\n"
     ]
    }
   ],
   "source": [
    "from sklearn.tree import DecisionTreeClassifier\n",
    "from sklearn.ensemble import RandomForestClassifier\n",
    "from sklearn.ensemble import BaggingClassifier\n",
    "from sklearn.naive_bayes import GaussianNB, MultinomialNB, BernoulliNB\n",
    "dt=MultinomialNB(fit_prior= True, alpha= 1)   \n",
    "dt.fit(X_train,train_label)\n",
    "print(dt.score(X_test,test_label))\n"
   ]
  },
  {
   "cell_type": "code",
   "execution_count": 12,
   "metadata": {},
   "outputs": [],
   "source": [
    "import pandas as pd\n",
    "df = pd.DataFrame(dt.predict(X_answer))\n",
    "df2=pd.DataFrame(answer_raw['id'])\n",
    "df2['Class']=df\n",
    "df2.to_csv('MultiNB.csv',index=False)\n"
   ]
  },
  {
   "cell_type": "code",
   "execution_count": null,
   "metadata": {},
   "outputs": [],
   "source": []
  },
  {
   "cell_type": "code",
   "execution_count": null,
   "metadata": {},
   "outputs": [],
   "source": []
  },
  {
   "cell_type": "code",
   "execution_count": null,
   "metadata": {},
   "outputs": [],
   "source": []
  }
 ],
 "metadata": {
  "kernelspec": {
   "display_name": "Python 3",
   "language": "python",
   "name": "python3"
  },
  "language_info": {
   "codemirror_mode": {
    "name": "ipython",
    "version": 3
   },
   "file_extension": ".py",
   "mimetype": "text/x-python",
   "name": "python",
   "nbconvert_exporter": "python",
   "pygments_lexer": "ipython3",
   "version": "3.7.1"
  }
 },
 "nbformat": 4,
 "nbformat_minor": 2
}
